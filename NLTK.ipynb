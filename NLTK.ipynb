{
  "nbformat": 4,
  "nbformat_minor": 0,
  "metadata": {
    "colab": {
      "provenance": []
    },
    "kernelspec": {
      "name": "python3",
      "display_name": "Python 3"
    },
    "language_info": {
      "name": "python"
    }
  },
  "cells": [
    {
      "cell_type": "code",
      "execution_count": 24,
      "metadata": {
        "colab": {
          "base_uri": "https://localhost:8080/"
        },
        "id": "fIsEK-2G_IIv",
        "outputId": "ac28077b-b955-444c-fda2-3867bdf6ae08"
      },
      "outputs": [
        {
          "output_type": "stream",
          "name": "stderr",
          "text": [
            "[nltk_data] Downloading package brown to /root/nltk_data...\n",
            "[nltk_data]   Package brown is already up-to-date!\n"
          ]
        },
        {
          "output_type": "execute_result",
          "data": {
            "text/plain": [
              "['adventure',\n",
              " 'belles_lettres',\n",
              " 'editorial',\n",
              " 'fiction',\n",
              " 'government',\n",
              " 'hobbies',\n",
              " 'humor',\n",
              " 'learned',\n",
              " 'lore',\n",
              " 'mystery',\n",
              " 'news',\n",
              " 'religion',\n",
              " 'reviews',\n",
              " 'romance',\n",
              " 'science_fiction']"
            ]
          },
          "metadata": {},
          "execution_count": 24
        }
      ],
      "source": [
        "#1st Ques\n",
        "import nltk\n",
        "import matplotlib as plt\n",
        "import pandas as pd\n",
        "import math\n",
        "from nltk.corpus import brown\n",
        "import numpy as np\n",
        "nltk.download('brown')\n",
        "from nltk.corpus import brown\n",
        "brown.categories()\n"
      ]
    },
    {
      "cell_type": "code",
      "source": [
        "print(\"Length of words is: \")\n",
        "len(brown.words()) #tokens"
      ],
      "metadata": {
        "colab": {
          "base_uri": "https://localhost:8080/"
        },
        "id": "ZXNqvP3P_aCq",
        "outputId": "3dd2379a-9459-422e-e69c-0736bab0af57"
      },
      "execution_count": 25,
      "outputs": [
        {
          "output_type": "stream",
          "name": "stdout",
          "text": [
            "Length of words is: \n"
          ]
        },
        {
          "output_type": "execute_result",
          "data": {
            "text/plain": [
              "1161192"
            ]
          },
          "metadata": {},
          "execution_count": 25
        }
      ]
    },
    {
      "cell_type": "code",
      "source": [
        "number_of_words = 0\n",
        "with open('nlp.txt','r') as file:\n",
        "\tdata = file.read()\n",
        "\tlines = data.split()\n",
        "\tnumber_of_words += len(lines)\n",
        "print(\"Total number of words:\")\n",
        "print(number_of_words)"
      ],
      "metadata": {
        "colab": {
          "base_uri": "https://localhost:8080/"
        },
        "id": "luJFURlp_mLV",
        "outputId": "64d34430-888a-4907-9370-fc2667ed9c61"
      },
      "execution_count": 26,
      "outputs": [
        {
          "output_type": "stream",
          "name": "stdout",
          "text": [
            "Total number of words:\n",
            "216\n"
          ]
        }
      ]
    },
    {
      "cell_type": "code",
      "source": [
        "f = open(\"nlp.txt\", 'r', errors = 'ignore')\n",
        "x = f.read()\n",
        "x"
      ],
      "metadata": {
        "colab": {
          "base_uri": "https://localhost:8080/",
          "height": 178
        },
        "id": "e5y5_rpH_oxm",
        "outputId": "4a4ab681-79b4-4824-c9cf-ca1474391bc6"
      },
      "execution_count": 27,
      "outputs": [
        {
          "output_type": "execute_result",
          "data": {
            "text/plain": [
              "\"The sun rises in the east and sets in the west.\\nThe sky is blue because of Rayleigh scattering.\\nThe moon affects the tides on Earth.\\nWater is made up of two hydrogen atoms and one oxygen atom.\\nThe fastest land animal is the cheetah.\\nThe northern lights, also known as the aurora borealis, are a natural light display in the Northern Hemisphere caused by the collision of charged particles from the sun with the Earth's atmosphere.\\nThe Amazon rainforest is the largest tropical rainforest in the world, covering over 6 million square kilometers in South America and playing a critical role in maintaining the Earth's biodiversity and climate.\\nThe Grand Canyon in Arizona, USA, is a massive gorge created by the Colorado River and is one of the most iconic natural wonders in the world, attracting millions of visitors each year.\\nThe human brain is the most complex structure in the known universe, capable of performing functions such as processing information, reasoning, and controlling movement, while also being responsible for our emotions, memories, and consciousness.\\nThe Theory of Evolution by Natural Selection, proposed by Charles Darwin in 1859, is the scientific explanation for the diversity of life on Earth and the mechanism behind the gradual change of species over time through the process of adaptation.\""
            ],
            "application/vnd.google.colaboratory.intrinsic+json": {
              "type": "string"
            }
          },
          "metadata": {},
          "execution_count": 27
        }
      ]
    },
    {
      "cell_type": "code",
      "source": [
        "from collections import Counter\n",
        "the_count = Counter(x)\n",
        "print(the_count)"
      ],
      "metadata": {
        "colab": {
          "base_uri": "https://localhost:8080/"
        },
        "id": "KJk7S4aXBDlW",
        "outputId": "f09fbfb5-6e0c-43c7-9175-6bf1d494ce11"
      },
      "execution_count": 28,
      "outputs": [
        {
          "output_type": "stream",
          "name": "stdout",
          "text": [
            "Counter({' ': 206, 'e': 118, 'i': 90, 'o': 88, 'a': 87, 'n': 86, 't': 83, 's': 76, 'r': 74, 'h': 59, 'l': 42, 'c': 35, 'm': 30, 'd': 27, 'u': 23, 'f': 23, 'g': 22, 'p': 18, 'y': 15, ',': 14, 'b': 13, 'v': 11, 'T': 10, 'w': 10, '.': 10, '\\n': 9, 'E': 5, 'k': 4, 'A': 4, 'x': 3, 'S': 3, 'C': 3, 'R': 2, 'N': 2, \"'\": 2, 'z': 2, 'W': 1, 'H': 1, '6': 1, 'q': 1, 'G': 1, 'U': 1, 'D': 1, '1': 1, '8': 1, '5': 1, '9': 1})\n"
          ]
        }
      ]
    },
    {
      "cell_type": "code",
      "source": [
        "brown.words(categories='government')"
      ],
      "metadata": {
        "colab": {
          "base_uri": "https://localhost:8080/"
        },
        "id": "dodKhxlEBELx",
        "outputId": "b8d5a84a-1e62-4d53-f1ef-cf307f67e0b7"
      },
      "execution_count": 29,
      "outputs": [
        {
          "output_type": "execute_result",
          "data": {
            "text/plain": [
              "['The', 'Office', 'of', 'Business', 'Economics', '(', ...]"
            ]
          },
          "metadata": {},
          "execution_count": 29
        }
      ]
    },
    {
      "cell_type": "code",
      "source": [
        "from collections import Counter\n",
        "split_it = x.split()\n",
        "Counter = Counter(split_it)\n",
        "most_occur = Counter.most_common(4)\n",
        "print(most_occur)"
      ],
      "metadata": {
        "colab": {
          "base_uri": "https://localhost:8080/"
        },
        "id": "WCf33PQGBHH5",
        "outputId": "d67a0ae7-e288-4e0b-9e6d-48a08485952a"
      },
      "execution_count": 30,
      "outputs": [
        {
          "output_type": "stream",
          "name": "stdout",
          "text": [
            "[('the', 22), ('in', 10), ('of', 10), ('The', 9)]\n"
          ]
        }
      ]
    },
    {
      "cell_type": "code",
      "source": [
        "nltk.download('punkt') \n",
        "nltk.download('wordnet') \n",
        "from nltk.tokenize import sent_tokenize, word_tokenize\n",
        "sentences= nltk.sent_tokenize(x)\n",
        "length= len(sentences)\n",
        "length"
      ],
      "metadata": {
        "colab": {
          "base_uri": "https://localhost:8080/"
        },
        "id": "juJNHaM7BJHx",
        "outputId": "16b03a3d-4f43-4614-e46b-3f30e30b3ad0"
      },
      "execution_count": 31,
      "outputs": [
        {
          "output_type": "stream",
          "name": "stderr",
          "text": [
            "[nltk_data] Downloading package punkt to /root/nltk_data...\n",
            "[nltk_data]   Package punkt is already up-to-date!\n",
            "[nltk_data] Downloading package wordnet to /root/nltk_data...\n",
            "[nltk_data]   Package wordnet is already up-to-date!\n"
          ]
        },
        {
          "output_type": "execute_result",
          "data": {
            "text/plain": [
              "10"
            ]
          },
          "metadata": {},
          "execution_count": 31
        }
      ]
    },
    {
      "cell_type": "markdown",
      "source": [],
      "metadata": {
        "id": "WVrJn7qRBi3l"
      }
    },
    {
      "cell_type": "code",
      "source": [
        "#2 parsed corpora\n",
        "nltk.download('treebank')\n",
        "from nltk.corpus import treebank\n",
        "print(treebank.fileids())\n",
        "print(treebank.words('wsj_0003.mrg'))\n",
        "print(treebank.tagged_words('wsj_0003.mrg'))\n",
        "print(treebank.parsed_sents('wsj_0003.mrg')[0])"
      ],
      "metadata": {
        "colab": {
          "base_uri": "https://localhost:8080/"
        },
        "id": "HhQ2a6a5Bg0p",
        "outputId": "7cf5820f-2f7f-4b3a-cef7-afaf87c0ea1d"
      },
      "execution_count": 32,
      "outputs": [
        {
          "output_type": "stream",
          "name": "stdout",
          "text": [
            "['wsj_0001.mrg', 'wsj_0002.mrg', 'wsj_0003.mrg', 'wsj_0004.mrg', 'wsj_0005.mrg', 'wsj_0006.mrg', 'wsj_0007.mrg', 'wsj_0008.mrg', 'wsj_0009.mrg', 'wsj_0010.mrg', 'wsj_0011.mrg', 'wsj_0012.mrg', 'wsj_0013.mrg', 'wsj_0014.mrg', 'wsj_0015.mrg', 'wsj_0016.mrg', 'wsj_0017.mrg', 'wsj_0018.mrg', 'wsj_0019.mrg', 'wsj_0020.mrg', 'wsj_0021.mrg', 'wsj_0022.mrg', 'wsj_0023.mrg', 'wsj_0024.mrg', 'wsj_0025.mrg', 'wsj_0026.mrg', 'wsj_0027.mrg', 'wsj_0028.mrg', 'wsj_0029.mrg', 'wsj_0030.mrg', 'wsj_0031.mrg', 'wsj_0032.mrg', 'wsj_0033.mrg', 'wsj_0034.mrg', 'wsj_0035.mrg', 'wsj_0036.mrg', 'wsj_0037.mrg', 'wsj_0038.mrg', 'wsj_0039.mrg', 'wsj_0040.mrg', 'wsj_0041.mrg', 'wsj_0042.mrg', 'wsj_0043.mrg', 'wsj_0044.mrg', 'wsj_0045.mrg', 'wsj_0046.mrg', 'wsj_0047.mrg', 'wsj_0048.mrg', 'wsj_0049.mrg', 'wsj_0050.mrg', 'wsj_0051.mrg', 'wsj_0052.mrg', 'wsj_0053.mrg', 'wsj_0054.mrg', 'wsj_0055.mrg', 'wsj_0056.mrg', 'wsj_0057.mrg', 'wsj_0058.mrg', 'wsj_0059.mrg', 'wsj_0060.mrg', 'wsj_0061.mrg', 'wsj_0062.mrg', 'wsj_0063.mrg', 'wsj_0064.mrg', 'wsj_0065.mrg', 'wsj_0066.mrg', 'wsj_0067.mrg', 'wsj_0068.mrg', 'wsj_0069.mrg', 'wsj_0070.mrg', 'wsj_0071.mrg', 'wsj_0072.mrg', 'wsj_0073.mrg', 'wsj_0074.mrg', 'wsj_0075.mrg', 'wsj_0076.mrg', 'wsj_0077.mrg', 'wsj_0078.mrg', 'wsj_0079.mrg', 'wsj_0080.mrg', 'wsj_0081.mrg', 'wsj_0082.mrg', 'wsj_0083.mrg', 'wsj_0084.mrg', 'wsj_0085.mrg', 'wsj_0086.mrg', 'wsj_0087.mrg', 'wsj_0088.mrg', 'wsj_0089.mrg', 'wsj_0090.mrg', 'wsj_0091.mrg', 'wsj_0092.mrg', 'wsj_0093.mrg', 'wsj_0094.mrg', 'wsj_0095.mrg', 'wsj_0096.mrg', 'wsj_0097.mrg', 'wsj_0098.mrg', 'wsj_0099.mrg', 'wsj_0100.mrg', 'wsj_0101.mrg', 'wsj_0102.mrg', 'wsj_0103.mrg', 'wsj_0104.mrg', 'wsj_0105.mrg', 'wsj_0106.mrg', 'wsj_0107.mrg', 'wsj_0108.mrg', 'wsj_0109.mrg', 'wsj_0110.mrg', 'wsj_0111.mrg', 'wsj_0112.mrg', 'wsj_0113.mrg', 'wsj_0114.mrg', 'wsj_0115.mrg', 'wsj_0116.mrg', 'wsj_0117.mrg', 'wsj_0118.mrg', 'wsj_0119.mrg', 'wsj_0120.mrg', 'wsj_0121.mrg', 'wsj_0122.mrg', 'wsj_0123.mrg', 'wsj_0124.mrg', 'wsj_0125.mrg', 'wsj_0126.mrg', 'wsj_0127.mrg', 'wsj_0128.mrg', 'wsj_0129.mrg', 'wsj_0130.mrg', 'wsj_0131.mrg', 'wsj_0132.mrg', 'wsj_0133.mrg', 'wsj_0134.mrg', 'wsj_0135.mrg', 'wsj_0136.mrg', 'wsj_0137.mrg', 'wsj_0138.mrg', 'wsj_0139.mrg', 'wsj_0140.mrg', 'wsj_0141.mrg', 'wsj_0142.mrg', 'wsj_0143.mrg', 'wsj_0144.mrg', 'wsj_0145.mrg', 'wsj_0146.mrg', 'wsj_0147.mrg', 'wsj_0148.mrg', 'wsj_0149.mrg', 'wsj_0150.mrg', 'wsj_0151.mrg', 'wsj_0152.mrg', 'wsj_0153.mrg', 'wsj_0154.mrg', 'wsj_0155.mrg', 'wsj_0156.mrg', 'wsj_0157.mrg', 'wsj_0158.mrg', 'wsj_0159.mrg', 'wsj_0160.mrg', 'wsj_0161.mrg', 'wsj_0162.mrg', 'wsj_0163.mrg', 'wsj_0164.mrg', 'wsj_0165.mrg', 'wsj_0166.mrg', 'wsj_0167.mrg', 'wsj_0168.mrg', 'wsj_0169.mrg', 'wsj_0170.mrg', 'wsj_0171.mrg', 'wsj_0172.mrg', 'wsj_0173.mrg', 'wsj_0174.mrg', 'wsj_0175.mrg', 'wsj_0176.mrg', 'wsj_0177.mrg', 'wsj_0178.mrg', 'wsj_0179.mrg', 'wsj_0180.mrg', 'wsj_0181.mrg', 'wsj_0182.mrg', 'wsj_0183.mrg', 'wsj_0184.mrg', 'wsj_0185.mrg', 'wsj_0186.mrg', 'wsj_0187.mrg', 'wsj_0188.mrg', 'wsj_0189.mrg', 'wsj_0190.mrg', 'wsj_0191.mrg', 'wsj_0192.mrg', 'wsj_0193.mrg', 'wsj_0194.mrg', 'wsj_0195.mrg', 'wsj_0196.mrg', 'wsj_0197.mrg', 'wsj_0198.mrg', 'wsj_0199.mrg']\n",
            "['A', 'form', 'of', 'asbestos', 'once', 'used', '*', ...]\n",
            "[('A', 'DT'), ('form', 'NN'), ('of', 'IN'), ...]\n",
            "(S\n",
            "  (S-TPC-1\n",
            "    (NP-SBJ\n",
            "      (NP (NP (DT A) (NN form)) (PP (IN of) (NP (NN asbestos))))\n",
            "      (RRC\n",
            "        (ADVP-TMP (RB once))\n",
            "        (VP\n",
            "          (VBN used)\n",
            "          (NP (-NONE- *))\n",
            "          (S-CLR\n",
            "            (NP-SBJ (-NONE- *))\n",
            "            (VP\n",
            "              (TO to)\n",
            "              (VP\n",
            "                (VB make)\n",
            "                (NP (NNP Kent) (NN cigarette) (NNS filters))))))))\n",
            "    (VP\n",
            "      (VBZ has)\n",
            "      (VP\n",
            "        (VBN caused)\n",
            "        (NP\n",
            "          (NP (DT a) (JJ high) (NN percentage))\n",
            "          (PP (IN of) (NP (NN cancer) (NNS deaths)))\n",
            "          (PP-LOC\n",
            "            (IN among)\n",
            "            (NP\n",
            "              (NP (DT a) (NN group))\n",
            "              (PP\n",
            "                (IN of)\n",
            "                (NP\n",
            "                  (NP (NNS workers))\n",
            "                  (RRC\n",
            "                    (VP\n",
            "                      (VBN exposed)\n",
            "                      (NP (-NONE- *))\n",
            "                      (PP-CLR (TO to) (NP (PRP it)))\n",
            "                      (ADVP-TMP\n",
            "                        (NP\n",
            "                          (QP (RBR more) (IN than) (CD 30))\n",
            "                          (NNS years))\n",
            "                        (IN ago))))))))))))\n",
            "  (, ,)\n",
            "  (NP-SBJ (NNS researchers))\n",
            "  (VP (VBD reported) (SBAR (-NONE- 0) (S (-NONE- *T*-1))))\n",
            "  (. .))\n"
          ]
        },
        {
          "output_type": "stream",
          "name": "stderr",
          "text": [
            "[nltk_data] Downloading package treebank to /root/nltk_data...\n",
            "[nltk_data]   Package treebank is already up-to-date!\n"
          ]
        }
      ]
    },
    {
      "cell_type": "code",
      "source": [
        "#POS tagged corpora\n",
        "from nltk.corpus import brown\n",
        "print(brown.words())\n",
        "print(brown.tagged_words())\n",
        "print(brown.sents())\n",
        "print(brown.tagged_sents())\n",
        "print(brown.paras(categories='reviews'))\n",
        "print(brown.tagged_paras(categories='reviews'))"
      ],
      "metadata": {
        "colab": {
          "base_uri": "https://localhost:8080/"
        },
        "id": "X-I4RD18BngV",
        "outputId": "af396dfd-3f98-43a6-8af9-eae5f0811afe"
      },
      "execution_count": 33,
      "outputs": [
        {
          "output_type": "stream",
          "name": "stdout",
          "text": [
            "['The', 'Fulton', 'County', 'Grand', 'Jury', 'said', ...]\n",
            "[('The', 'AT'), ('Fulton', 'NP-TL'), ...]\n",
            "[['The', 'Fulton', 'County', 'Grand', 'Jury', 'said', 'Friday', 'an', 'investigation', 'of', \"Atlanta's\", 'recent', 'primary', 'election', 'produced', '``', 'no', 'evidence', \"''\", 'that', 'any', 'irregularities', 'took', 'place', '.'], ['The', 'jury', 'further', 'said', 'in', 'term-end', 'presentments', 'that', 'the', 'City', 'Executive', 'Committee', ',', 'which', 'had', 'over-all', 'charge', 'of', 'the', 'election', ',', '``', 'deserves', 'the', 'praise', 'and', 'thanks', 'of', 'the', 'City', 'of', 'Atlanta', \"''\", 'for', 'the', 'manner', 'in', 'which', 'the', 'election', 'was', 'conducted', '.'], ...]\n",
            "[[('The', 'AT'), ('Fulton', 'NP-TL'), ('County', 'NN-TL'), ('Grand', 'JJ-TL'), ('Jury', 'NN-TL'), ('said', 'VBD'), ('Friday', 'NR'), ('an', 'AT'), ('investigation', 'NN'), ('of', 'IN'), (\"Atlanta's\", 'NP$'), ('recent', 'JJ'), ('primary', 'NN'), ('election', 'NN'), ('produced', 'VBD'), ('``', '``'), ('no', 'AT'), ('evidence', 'NN'), (\"''\", \"''\"), ('that', 'CS'), ('any', 'DTI'), ('irregularities', 'NNS'), ('took', 'VBD'), ('place', 'NN'), ('.', '.')], [('The', 'AT'), ('jury', 'NN'), ('further', 'RBR'), ('said', 'VBD'), ('in', 'IN'), ('term-end', 'NN'), ('presentments', 'NNS'), ('that', 'CS'), ('the', 'AT'), ('City', 'NN-TL'), ('Executive', 'JJ-TL'), ('Committee', 'NN-TL'), (',', ','), ('which', 'WDT'), ('had', 'HVD'), ('over-all', 'JJ'), ('charge', 'NN'), ('of', 'IN'), ('the', 'AT'), ('election', 'NN'), (',', ','), ('``', '``'), ('deserves', 'VBZ'), ('the', 'AT'), ('praise', 'NN'), ('and', 'CC'), ('thanks', 'NNS'), ('of', 'IN'), ('the', 'AT'), ('City', 'NN-TL'), ('of', 'IN-TL'), ('Atlanta', 'NP-TL'), (\"''\", \"''\"), ('for', 'IN'), ('the', 'AT'), ('manner', 'NN'), ('in', 'IN'), ('which', 'WDT'), ('the', 'AT'), ('election', 'NN'), ('was', 'BEDZ'), ('conducted', 'VBN'), ('.', '.')], ...]\n",
            "[[['It', 'is', 'not', 'news', 'that', 'Nathan', 'Milstein', 'is', 'a', 'wizard', 'of', 'the', 'violin', '.'], ['Certainly', 'not', 'in', 'Orchestra', 'Hall', 'where', 'he', 'has', 'played', 'countless', 'recitals', ',', 'and', 'where', 'Thursday', 'night', 'he', 'celebrated', 'his', '20th', 'season', 'with', 'the', 'Chicago', 'Symphony', 'Orchestra', ',', 'playing', 'the', 'Brahms', 'Concerto', 'with', 'his', 'own', 'slashing', ',', 'demon-ridden', 'cadenza', 'melting', 'into', 'the', 'high', ',', 'pale', ',', 'pure', 'and', 'lovely', 'song', 'with', 'which', 'a', 'violinist', 'unlocks', 'the', 'heart', 'of', 'the', 'music', ',', 'or', 'forever', 'finds', 'it', 'closed', '.']], [['There', 'was', 'about', 'that', 'song', 'something', 'incandescent', ',', 'for', 'this', 'Brahms', 'was', 'Milstein', 'at', 'white', 'heat', '.'], ['Not', 'the', 'noblest', 'performance', 'we', 'have', 'heard', 'him', 'play', ',', 'or', 'the', 'most', 'spacious', ',', 'or', 'even', 'the', 'most', 'eloquent', '.'], ['Those', 'would', 'be', 'reserved', 'for', 'the', \"orchestra's\", 'great', 'nights', 'when', 'the', 'soloist', 'can', 'surpass', 'himself', '.'], ['This', 'time', 'the', 'orchestra', 'gave', 'him', 'some', 'superb', 'support', 'fired', 'by', 'response', 'to', 'his', 'own', 'high', 'mood', '.'], ['But', 'he', 'had', 'in', 'Walter', 'Hendl', 'a', 'willing', 'conductor', 'able', 'only', 'up', 'to', 'a', 'point', '.']], ...]\n",
            "[[[('It', 'PPS'), ('is', 'BEZ'), ('not', '*'), ('news', 'NN'), ('that', 'CS'), ('Nathan', 'NP'), ('Milstein', 'NP'), ('is', 'BEZ'), ('a', 'AT'), ('wizard', 'NN'), ('of', 'IN'), ('the', 'AT'), ('violin', 'NN'), ('.', '.')], [('Certainly', 'RB'), ('not', '*'), ('in', 'IN'), ('Orchestra', 'NN-TL'), ('Hall', 'NN-TL'), ('where', 'WRB'), ('he', 'PPS'), ('has', 'HVZ'), ('played', 'VBN'), ('countless', 'JJ'), ('recitals', 'NNS'), (',', ','), ('and', 'CC'), ('where', 'WRB'), ('Thursday', 'NR'), ('night', 'NN'), ('he', 'PPS'), ('celebrated', 'VBD'), ('his', 'PP$'), ('20th', 'OD'), ('season', 'NN'), ('with', 'IN'), ('the', 'AT'), ('Chicago', 'NP-TL'), ('Symphony', 'NN-TL'), ('Orchestra', 'NN-TL'), (',', ','), ('playing', 'VBG'), ('the', 'AT'), ('Brahms', 'NP-TL'), ('Concerto', 'NN-TL'), ('with', 'IN'), ('his', 'PP$'), ('own', 'JJ'), ('slashing', 'VBG'), (',', ','), ('demon-ridden', 'JJ'), ('cadenza', 'NN'), ('melting', 'VBG'), ('into', 'IN'), ('the', 'AT'), ('high', 'JJ'), (',', ','), ('pale', 'JJ'), (',', ','), ('pure', 'JJ'), ('and', 'CC'), ('lovely', 'JJ'), ('song', 'NN'), ('with', 'IN'), ('which', 'WDT'), ('a', 'AT'), ('violinist', 'NN'), ('unlocks', 'VBZ'), ('the', 'AT'), ('heart', 'NN'), ('of', 'IN'), ('the', 'AT'), ('music', 'NN'), (',', ','), ('or', 'CC'), ('forever', 'RB'), ('finds', 'VBZ'), ('it', 'PPO'), ('closed', 'VBN'), ('.', '.')]], [[('There', 'EX'), ('was', 'BEDZ'), ('about', 'IN'), ('that', 'DT'), ('song', 'NN'), ('something', 'PN'), ('incandescent', 'JJ'), (',', ','), ('for', 'CS'), ('this', 'DT'), ('Brahms', 'NP'), ('was', 'BEDZ'), ('Milstein', 'NP'), ('at', 'IN'), ('white', 'JJ'), ('heat', 'NN'), ('.', '.')], [('Not', '*'), ('the', 'AT'), ('noblest', 'JJT'), ('performance', 'NN'), ('we', 'PPSS'), ('have', 'HV'), ('heard', 'VBN'), ('him', 'PPO'), ('play', 'VB'), (',', ','), ('or', 'CC'), ('the', 'AT'), ('most', 'QL'), ('spacious', 'JJ'), (',', ','), ('or', 'CC'), ('even', 'RB'), ('the', 'AT'), ('most', 'QL'), ('eloquent', 'JJ'), ('.', '.')], [('Those', 'DTS'), ('would', 'MD'), ('be', 'BE'), ('reserved', 'VBN'), ('for', 'IN'), ('the', 'AT'), (\"orchestra's\", 'NN$'), ('great', 'JJ'), ('nights', 'NNS'), ('when', 'WRB'), ('the', 'AT'), ('soloist', 'NN'), ('can', 'MD'), ('surpass', 'VB'), ('himself', 'PPL'), ('.', '.')], [('This', 'DT'), ('time', 'NN'), ('the', 'AT'), ('orchestra', 'NN'), ('gave', 'VBD'), ('him', 'PPO'), ('some', 'DTI'), ('superb', 'JJ'), ('support', 'NN'), ('fired', 'VBN'), ('by', 'IN'), ('response', 'NN'), ('to', 'IN'), ('his', 'PP$'), ('own', 'JJ'), ('high', 'JJ'), ('mood', 'NN'), ('.', '.')], [('But', 'CC'), ('he', 'PPS'), ('had', 'HVD'), ('in', 'IN'), ('Walter', 'NP'), ('Hendl', 'NP'), ('a', 'AT'), ('willing', 'JJ'), ('conductor', 'NN'), ('able', 'JJ'), ('only', 'RB'), ('up', 'IN'), ('to', 'IN'), ('a', 'AT'), ('point', 'NN'), ('.', '.')]], ...]\n"
          ]
        }
      ]
    },
    {
      "cell_type": "code",
      "source": [
        "nltk.download('indian')\n",
        "from nltk.corpus import indian\n",
        "print(indian.words()) \n",
        "print(indian.tagged_words()) \n",
        "     "
      ],
      "metadata": {
        "colab": {
          "base_uri": "https://localhost:8080/"
        },
        "id": "eIJ35jQrBpnc",
        "outputId": "6f3d76bc-674d-4cfd-bd1f-53919a7984c3"
      },
      "execution_count": 34,
      "outputs": [
        {
          "output_type": "stream",
          "name": "stdout",
          "text": [
            "['মহিষের', 'সন্তান', ':', 'তোড়া', 'উপজাতি', '৷', ...]\n",
            "[('মহিষের', 'NN'), ('সন্তান', 'NN'), (':', 'SYM'), ...]\n"
          ]
        },
        {
          "output_type": "stream",
          "name": "stderr",
          "text": [
            "[nltk_data] Downloading package indian to /root/nltk_data...\n",
            "[nltk_data]   Package indian is already up-to-date!\n"
          ]
        }
      ]
    },
    {
      "cell_type": "code",
      "source": [
        "nltk.download('universal_tagset')\n",
        "nltk.download('conll2000')\n",
        "nltk.download('switchboard')\n",
        "print(brown.tagged_sents(tagset='universal'))\n",
        "from nltk.corpus import conll2000, switchboard\n",
        "print(conll2000.tagged_words(tagset='universal'))"
      ],
      "metadata": {
        "colab": {
          "base_uri": "https://localhost:8080/"
        },
        "id": "IdVPqRytBtQS",
        "outputId": "76e7662f-df90-4a8c-e1fe-21f40b8f8628"
      },
      "execution_count": 35,
      "outputs": [
        {
          "output_type": "stream",
          "name": "stdout",
          "text": [
            "[[('The', 'DET'), ('Fulton', 'NOUN'), ('County', 'NOUN'), ('Grand', 'ADJ'), ('Jury', 'NOUN'), ('said', 'VERB'), ('Friday', 'NOUN'), ('an', 'DET'), ('investigation', 'NOUN'), ('of', 'ADP'), (\"Atlanta's\", 'NOUN'), ('recent', 'ADJ'), ('primary', 'NOUN'), ('election', 'NOUN'), ('produced', 'VERB'), ('``', '.'), ('no', 'DET'), ('evidence', 'NOUN'), (\"''\", '.'), ('that', 'ADP'), ('any', 'DET'), ('irregularities', 'NOUN'), ('took', 'VERB'), ('place', 'NOUN'), ('.', '.')], [('The', 'DET'), ('jury', 'NOUN'), ('further', 'ADV'), ('said', 'VERB'), ('in', 'ADP'), ('term-end', 'NOUN'), ('presentments', 'NOUN'), ('that', 'ADP'), ('the', 'DET'), ('City', 'NOUN'), ('Executive', 'ADJ'), ('Committee', 'NOUN'), (',', '.'), ('which', 'DET'), ('had', 'VERB'), ('over-all', 'ADJ'), ('charge', 'NOUN'), ('of', 'ADP'), ('the', 'DET'), ('election', 'NOUN'), (',', '.'), ('``', '.'), ('deserves', 'VERB'), ('the', 'DET'), ('praise', 'NOUN'), ('and', 'CONJ'), ('thanks', 'NOUN'), ('of', 'ADP'), ('the', 'DET'), ('City', 'NOUN'), ('of', 'ADP'), ('Atlanta', 'NOUN'), (\"''\", '.'), ('for', 'ADP'), ('the', 'DET'), ('manner', 'NOUN'), ('in', 'ADP'), ('which', 'DET'), ('the', 'DET'), ('election', 'NOUN'), ('was', 'VERB'), ('conducted', 'VERB'), ('.', '.')], ...]\n",
            "[('Confidence', 'NOUN'), ('in', 'ADP'), ('the', 'DET'), ...]\n"
          ]
        },
        {
          "output_type": "stream",
          "name": "stderr",
          "text": [
            "[nltk_data] Downloading package universal_tagset to /root/nltk_data...\n",
            "[nltk_data]   Package universal_tagset is already up-to-date!\n",
            "[nltk_data] Downloading package conll2000 to /root/nltk_data...\n",
            "[nltk_data]   Package conll2000 is already up-to-date!\n",
            "[nltk_data] Downloading package switchboard to /root/nltk_data...\n",
            "[nltk_data]   Package switchboard is already up-to-date!\n"
          ]
        }
      ]
    },
    {
      "cell_type": "code",
      "source": [
        "#3\n",
        "x = x.lower()\n",
        "     \n",
        "\n",
        "nltk.download('punkt') \n",
        "nltk.download('wordnet') \n",
        "from nltk.tokenize import sent_tokenize, word_tokenize\n",
        "sent_tokens = nltk.sent_tokenize(x) \n",
        "word_tokens = nltk.word_tokenize(x) \n",
        "sent_tokens"
      ],
      "metadata": {
        "colab": {
          "base_uri": "https://localhost:8080/"
        },
        "id": "W2hqW7J1BzOb",
        "outputId": "844380cb-c1be-411e-c7e2-d950fad87b08"
      },
      "execution_count": 36,
      "outputs": [
        {
          "output_type": "stream",
          "name": "stderr",
          "text": [
            "[nltk_data] Downloading package punkt to /root/nltk_data...\n",
            "[nltk_data]   Package punkt is already up-to-date!\n",
            "[nltk_data] Downloading package wordnet to /root/nltk_data...\n",
            "[nltk_data]   Package wordnet is already up-to-date!\n"
          ]
        },
        {
          "output_type": "execute_result",
          "data": {
            "text/plain": [
              "['the sun rises in the east and sets in the west.',\n",
              " 'the sky is blue because of rayleigh scattering.',\n",
              " 'the moon affects the tides on earth.',\n",
              " 'water is made up of two hydrogen atoms and one oxygen atom.',\n",
              " 'the fastest land animal is the cheetah.',\n",
              " \"the northern lights, also known as the aurora borealis, are a natural light display in the northern hemisphere caused by the collision of charged particles from the sun with the earth's atmosphere.\",\n",
              " \"the amazon rainforest is the largest tropical rainforest in the world, covering over 6 million square kilometers in south america and playing a critical role in maintaining the earth's biodiversity and climate.\",\n",
              " 'the grand canyon in arizona, usa, is a massive gorge created by the colorado river and is one of the most iconic natural wonders in the world, attracting millions of visitors each year.',\n",
              " 'the human brain is the most complex structure in the known universe, capable of performing functions such as processing information, reasoning, and controlling movement, while also being responsible for our emotions, memories, and consciousness.',\n",
              " 'the theory of evolution by natural selection, proposed by charles darwin in 1859, is the scientific explanation for the diversity of life on earth and the mechanism behind the gradual change of species over time through the process of adaptation.']"
            ]
          },
          "metadata": {},
          "execution_count": 36
        }
      ]
    },
    {
      "cell_type": "code",
      "source": [
        "word_tokens\n"
      ],
      "metadata": {
        "colab": {
          "base_uri": "https://localhost:8080/"
        },
        "id": "9hmOvM7iB7Dh",
        "outputId": "d764e0b0-304a-4f69-f7b9-cf7cbeb4a91c"
      },
      "execution_count": 37,
      "outputs": [
        {
          "output_type": "execute_result",
          "data": {
            "text/plain": [
              "['the',\n",
              " 'sun',\n",
              " 'rises',\n",
              " 'in',\n",
              " 'the',\n",
              " 'east',\n",
              " 'and',\n",
              " 'sets',\n",
              " 'in',\n",
              " 'the',\n",
              " 'west',\n",
              " '.',\n",
              " 'the',\n",
              " 'sky',\n",
              " 'is',\n",
              " 'blue',\n",
              " 'because',\n",
              " 'of',\n",
              " 'rayleigh',\n",
              " 'scattering',\n",
              " '.',\n",
              " 'the',\n",
              " 'moon',\n",
              " 'affects',\n",
              " 'the',\n",
              " 'tides',\n",
              " 'on',\n",
              " 'earth',\n",
              " '.',\n",
              " 'water',\n",
              " 'is',\n",
              " 'made',\n",
              " 'up',\n",
              " 'of',\n",
              " 'two',\n",
              " 'hydrogen',\n",
              " 'atoms',\n",
              " 'and',\n",
              " 'one',\n",
              " 'oxygen',\n",
              " 'atom',\n",
              " '.',\n",
              " 'the',\n",
              " 'fastest',\n",
              " 'land',\n",
              " 'animal',\n",
              " 'is',\n",
              " 'the',\n",
              " 'cheetah',\n",
              " '.',\n",
              " 'the',\n",
              " 'northern',\n",
              " 'lights',\n",
              " ',',\n",
              " 'also',\n",
              " 'known',\n",
              " 'as',\n",
              " 'the',\n",
              " 'aurora',\n",
              " 'borealis',\n",
              " ',',\n",
              " 'are',\n",
              " 'a',\n",
              " 'natural',\n",
              " 'light',\n",
              " 'display',\n",
              " 'in',\n",
              " 'the',\n",
              " 'northern',\n",
              " 'hemisphere',\n",
              " 'caused',\n",
              " 'by',\n",
              " 'the',\n",
              " 'collision',\n",
              " 'of',\n",
              " 'charged',\n",
              " 'particles',\n",
              " 'from',\n",
              " 'the',\n",
              " 'sun',\n",
              " 'with',\n",
              " 'the',\n",
              " 'earth',\n",
              " \"'s\",\n",
              " 'atmosphere',\n",
              " '.',\n",
              " 'the',\n",
              " 'amazon',\n",
              " 'rainforest',\n",
              " 'is',\n",
              " 'the',\n",
              " 'largest',\n",
              " 'tropical',\n",
              " 'rainforest',\n",
              " 'in',\n",
              " 'the',\n",
              " 'world',\n",
              " ',',\n",
              " 'covering',\n",
              " 'over',\n",
              " '6',\n",
              " 'million',\n",
              " 'square',\n",
              " 'kilometers',\n",
              " 'in',\n",
              " 'south',\n",
              " 'america',\n",
              " 'and',\n",
              " 'playing',\n",
              " 'a',\n",
              " 'critical',\n",
              " 'role',\n",
              " 'in',\n",
              " 'maintaining',\n",
              " 'the',\n",
              " 'earth',\n",
              " \"'s\",\n",
              " 'biodiversity',\n",
              " 'and',\n",
              " 'climate',\n",
              " '.',\n",
              " 'the',\n",
              " 'grand',\n",
              " 'canyon',\n",
              " 'in',\n",
              " 'arizona',\n",
              " ',',\n",
              " 'usa',\n",
              " ',',\n",
              " 'is',\n",
              " 'a',\n",
              " 'massive',\n",
              " 'gorge',\n",
              " 'created',\n",
              " 'by',\n",
              " 'the',\n",
              " 'colorado',\n",
              " 'river',\n",
              " 'and',\n",
              " 'is',\n",
              " 'one',\n",
              " 'of',\n",
              " 'the',\n",
              " 'most',\n",
              " 'iconic',\n",
              " 'natural',\n",
              " 'wonders',\n",
              " 'in',\n",
              " 'the',\n",
              " 'world',\n",
              " ',',\n",
              " 'attracting',\n",
              " 'millions',\n",
              " 'of',\n",
              " 'visitors',\n",
              " 'each',\n",
              " 'year',\n",
              " '.',\n",
              " 'the',\n",
              " 'human',\n",
              " 'brain',\n",
              " 'is',\n",
              " 'the',\n",
              " 'most',\n",
              " 'complex',\n",
              " 'structure',\n",
              " 'in',\n",
              " 'the',\n",
              " 'known',\n",
              " 'universe',\n",
              " ',',\n",
              " 'capable',\n",
              " 'of',\n",
              " 'performing',\n",
              " 'functions',\n",
              " 'such',\n",
              " 'as',\n",
              " 'processing',\n",
              " 'information',\n",
              " ',',\n",
              " 'reasoning',\n",
              " ',',\n",
              " 'and',\n",
              " 'controlling',\n",
              " 'movement',\n",
              " ',',\n",
              " 'while',\n",
              " 'also',\n",
              " 'being',\n",
              " 'responsible',\n",
              " 'for',\n",
              " 'our',\n",
              " 'emotions',\n",
              " ',',\n",
              " 'memories',\n",
              " ',',\n",
              " 'and',\n",
              " 'consciousness',\n",
              " '.',\n",
              " 'the',\n",
              " 'theory',\n",
              " 'of',\n",
              " 'evolution',\n",
              " 'by',\n",
              " 'natural',\n",
              " 'selection',\n",
              " ',',\n",
              " 'proposed',\n",
              " 'by',\n",
              " 'charles',\n",
              " 'darwin',\n",
              " 'in',\n",
              " '1859',\n",
              " ',',\n",
              " 'is',\n",
              " 'the',\n",
              " 'scientific',\n",
              " 'explanation',\n",
              " 'for',\n",
              " 'the',\n",
              " 'diversity',\n",
              " 'of',\n",
              " 'life',\n",
              " 'on',\n",
              " 'earth',\n",
              " 'and',\n",
              " 'the',\n",
              " 'mechanism',\n",
              " 'behind',\n",
              " 'the',\n",
              " 'gradual',\n",
              " 'change',\n",
              " 'of',\n",
              " 'species',\n",
              " 'over',\n",
              " 'time',\n",
              " 'through',\n",
              " 'the',\n",
              " 'process',\n",
              " 'of',\n",
              " 'adaptation',\n",
              " '.']"
            ]
          },
          "metadata": {},
          "execution_count": 37
        }
      ]
    },
    {
      "cell_type": "code",
      "source": [
        "import nltk\n",
        "from nltk.corpus import stopwords\n",
        "nltk.download('stopwords')\n",
        "from nltk.tokenize import word_tokenize\n",
        "tokens = word_tokenize(x)\n",
        "filtered_text = [t for t in tokens if not t in stopwords.words(\"english\")]\n",
        "print(\" \".join(filtered_text))"
      ],
      "metadata": {
        "colab": {
          "base_uri": "https://localhost:8080/"
        },
        "id": "pg5bBmz2B7iF",
        "outputId": "7645da1c-0590-49ef-e3ec-c0bbcdfaad19"
      },
      "execution_count": 38,
      "outputs": [
        {
          "output_type": "stream",
          "name": "stdout",
          "text": [
            "sun rises east sets west . sky blue rayleigh scattering . moon affects tides earth . water made two hydrogen atoms one oxygen atom . fastest land animal cheetah . northern lights , also known aurora borealis , natural light display northern hemisphere caused collision charged particles sun earth 's atmosphere . amazon rainforest largest tropical rainforest world , covering 6 million square kilometers south america playing critical role maintaining earth 's biodiversity climate . grand canyon arizona , usa , massive gorge created colorado river one iconic natural wonders world , attracting millions visitors year . human brain complex structure known universe , capable performing functions processing information , reasoning , controlling movement , also responsible emotions , memories , consciousness . theory evolution natural selection , proposed charles darwin 1859 , scientific explanation diversity life earth mechanism behind gradual change species time process adaptation .\n"
          ]
        },
        {
          "output_type": "stream",
          "name": "stderr",
          "text": [
            "[nltk_data] Downloading package stopwords to /root/nltk_data...\n",
            "[nltk_data]   Package stopwords is already up-to-date!\n"
          ]
        }
      ]
    },
    {
      "cell_type": "code",
      "source": [
        "from nltk.stem import PorterStemmer\n",
        "from nltk.tokenize import word_tokenize\n",
        "import pandas as pd \n",
        "ps = PorterStemmer()\n",
        "tokens = word_tokenize(x)\n",
        "print(tokens)\n",
        "stemmed = []\n",
        "for token in tokens:\n",
        "     stemmed_word = ps.stem(token)\n",
        "     stemmed.append(stemmed_word)\n",
        "print(stemmed)\n",
        "df = pd.DataFrame(data={\"tokens\":tokens, \"stemmed\": stemmed})\n",
        "     "
      ],
      "metadata": {
        "colab": {
          "base_uri": "https://localhost:8080/"
        },
        "id": "6fTqEHwtCBik",
        "outputId": "8b1f25a1-d8f6-482b-ffdf-84a257d72f9c"
      },
      "execution_count": 39,
      "outputs": [
        {
          "output_type": "stream",
          "name": "stdout",
          "text": [
            "['the', 'sun', 'rises', 'in', 'the', 'east', 'and', 'sets', 'in', 'the', 'west', '.', 'the', 'sky', 'is', 'blue', 'because', 'of', 'rayleigh', 'scattering', '.', 'the', 'moon', 'affects', 'the', 'tides', 'on', 'earth', '.', 'water', 'is', 'made', 'up', 'of', 'two', 'hydrogen', 'atoms', 'and', 'one', 'oxygen', 'atom', '.', 'the', 'fastest', 'land', 'animal', 'is', 'the', 'cheetah', '.', 'the', 'northern', 'lights', ',', 'also', 'known', 'as', 'the', 'aurora', 'borealis', ',', 'are', 'a', 'natural', 'light', 'display', 'in', 'the', 'northern', 'hemisphere', 'caused', 'by', 'the', 'collision', 'of', 'charged', 'particles', 'from', 'the', 'sun', 'with', 'the', 'earth', \"'s\", 'atmosphere', '.', 'the', 'amazon', 'rainforest', 'is', 'the', 'largest', 'tropical', 'rainforest', 'in', 'the', 'world', ',', 'covering', 'over', '6', 'million', 'square', 'kilometers', 'in', 'south', 'america', 'and', 'playing', 'a', 'critical', 'role', 'in', 'maintaining', 'the', 'earth', \"'s\", 'biodiversity', 'and', 'climate', '.', 'the', 'grand', 'canyon', 'in', 'arizona', ',', 'usa', ',', 'is', 'a', 'massive', 'gorge', 'created', 'by', 'the', 'colorado', 'river', 'and', 'is', 'one', 'of', 'the', 'most', 'iconic', 'natural', 'wonders', 'in', 'the', 'world', ',', 'attracting', 'millions', 'of', 'visitors', 'each', 'year', '.', 'the', 'human', 'brain', 'is', 'the', 'most', 'complex', 'structure', 'in', 'the', 'known', 'universe', ',', 'capable', 'of', 'performing', 'functions', 'such', 'as', 'processing', 'information', ',', 'reasoning', ',', 'and', 'controlling', 'movement', ',', 'while', 'also', 'being', 'responsible', 'for', 'our', 'emotions', ',', 'memories', ',', 'and', 'consciousness', '.', 'the', 'theory', 'of', 'evolution', 'by', 'natural', 'selection', ',', 'proposed', 'by', 'charles', 'darwin', 'in', '1859', ',', 'is', 'the', 'scientific', 'explanation', 'for', 'the', 'diversity', 'of', 'life', 'on', 'earth', 'and', 'the', 'mechanism', 'behind', 'the', 'gradual', 'change', 'of', 'species', 'over', 'time', 'through', 'the', 'process', 'of', 'adaptation', '.']\n",
            "['the', 'sun', 'rise', 'in', 'the', 'east', 'and', 'set', 'in', 'the', 'west', '.', 'the', 'sky', 'is', 'blue', 'becaus', 'of', 'rayleigh', 'scatter', '.', 'the', 'moon', 'affect', 'the', 'tide', 'on', 'earth', '.', 'water', 'is', 'made', 'up', 'of', 'two', 'hydrogen', 'atom', 'and', 'one', 'oxygen', 'atom', '.', 'the', 'fastest', 'land', 'anim', 'is', 'the', 'cheetah', '.', 'the', 'northern', 'light', ',', 'also', 'known', 'as', 'the', 'aurora', 'boreali', ',', 'are', 'a', 'natur', 'light', 'display', 'in', 'the', 'northern', 'hemispher', 'caus', 'by', 'the', 'collis', 'of', 'charg', 'particl', 'from', 'the', 'sun', 'with', 'the', 'earth', \"'s\", 'atmospher', '.', 'the', 'amazon', 'rainforest', 'is', 'the', 'largest', 'tropic', 'rainforest', 'in', 'the', 'world', ',', 'cover', 'over', '6', 'million', 'squar', 'kilomet', 'in', 'south', 'america', 'and', 'play', 'a', 'critic', 'role', 'in', 'maintain', 'the', 'earth', \"'s\", 'biodivers', 'and', 'climat', '.', 'the', 'grand', 'canyon', 'in', 'arizona', ',', 'usa', ',', 'is', 'a', 'massiv', 'gorg', 'creat', 'by', 'the', 'colorado', 'river', 'and', 'is', 'one', 'of', 'the', 'most', 'icon', 'natur', 'wonder', 'in', 'the', 'world', ',', 'attract', 'million', 'of', 'visitor', 'each', 'year', '.', 'the', 'human', 'brain', 'is', 'the', 'most', 'complex', 'structur', 'in', 'the', 'known', 'univers', ',', 'capabl', 'of', 'perform', 'function', 'such', 'as', 'process', 'inform', ',', 'reason', ',', 'and', 'control', 'movement', ',', 'while', 'also', 'be', 'respons', 'for', 'our', 'emot', ',', 'memori', ',', 'and', 'conscious', '.', 'the', 'theori', 'of', 'evolut', 'by', 'natur', 'select', ',', 'propos', 'by', 'charl', 'darwin', 'in', '1859', ',', 'is', 'the', 'scientif', 'explan', 'for', 'the', 'divers', 'of', 'life', 'on', 'earth', 'and', 'the', 'mechan', 'behind', 'the', 'gradual', 'chang', 'of', 'speci', 'over', 'time', 'through', 'the', 'process', 'of', 'adapt', '.']\n"
          ]
        }
      ]
    },
    {
      "cell_type": "code",
      "source": [
        "import nltk\n",
        "nltk.download('omw-1.4')\n",
        "from nltk.stem import WordNetLemmatizer\n",
        "wordnet_lemmatizer = WordNetLemmatizer()\n",
        "punctuations=\"?:!.,;\"\n",
        "sentence_words = nltk.word_tokenize(x)\n",
        "for word in sentence_words:\n",
        "    if word in punctuations:\n",
        "        sentence_words.remove(word)\n",
        "\n",
        "sentence_words\n",
        "print(\"{0:20}{1:20}\".format(\"Word\",\"Lemma\"))\n",
        "for word in sentence_words:\n",
        "    print (\"{0:20}{1:20}\".format(word,wordnet_lemmatizer.lemmatize(word)))"
      ],
      "metadata": {
        "colab": {
          "base_uri": "https://localhost:8080/"
        },
        "id": "eAaL-LcRCL0q",
        "outputId": "9142da5d-c324-415d-9e07-a8eed0bcb374"
      },
      "execution_count": 40,
      "outputs": [
        {
          "output_type": "stream",
          "name": "stderr",
          "text": [
            "[nltk_data] Downloading package omw-1.4 to /root/nltk_data...\n"
          ]
        },
        {
          "output_type": "stream",
          "name": "stdout",
          "text": [
            "Word                Lemma               \n",
            "the                 the                 \n",
            "sun                 sun                 \n",
            "rises               rise                \n",
            "in                  in                  \n",
            "the                 the                 \n",
            "east                east                \n",
            "and                 and                 \n",
            "sets                set                 \n",
            "in                  in                  \n",
            "the                 the                 \n",
            "west                west                \n",
            "the                 the                 \n",
            "sky                 sky                 \n",
            "is                  is                  \n",
            "blue                blue                \n",
            "because             because             \n",
            "of                  of                  \n",
            "rayleigh            rayleigh            \n",
            "scattering          scattering          \n",
            "the                 the                 \n",
            "moon                moon                \n",
            "affects             affect              \n",
            "the                 the                 \n",
            "tides               tide                \n",
            "on                  on                  \n",
            "earth               earth               \n",
            "water               water               \n",
            "is                  is                  \n",
            "made                made                \n",
            "up                  up                  \n",
            "of                  of                  \n",
            "two                 two                 \n",
            "hydrogen            hydrogen            \n",
            "atoms               atom                \n",
            "and                 and                 \n",
            "one                 one                 \n",
            "oxygen              oxygen              \n",
            "atom                atom                \n",
            "the                 the                 \n",
            "fastest             fastest             \n",
            "land                land                \n",
            "animal              animal              \n",
            "is                  is                  \n",
            "the                 the                 \n",
            "cheetah             cheetah             \n",
            "the                 the                 \n",
            "northern            northern            \n",
            "lights              light               \n",
            "also                also                \n",
            "known               known               \n",
            "as                  a                   \n",
            "the                 the                 \n",
            "aurora              aurora              \n",
            "borealis            borealis            \n",
            "are                 are                 \n",
            "a                   a                   \n",
            "natural             natural             \n",
            "light               light               \n",
            "display             display             \n",
            "in                  in                  \n",
            "the                 the                 \n",
            "northern            northern            \n",
            "hemisphere          hemisphere          \n",
            "caused              caused              \n",
            "by                  by                  \n",
            "the                 the                 \n",
            "collision           collision           \n",
            "of                  of                  \n",
            "charged             charged             \n",
            "particles           particle            \n",
            "from                from                \n",
            "the                 the                 \n",
            "sun                 sun                 \n",
            "with                with                \n",
            "the                 the                 \n",
            "earth               earth               \n",
            "'s                  's                  \n",
            "atmosphere          atmosphere          \n",
            "the                 the                 \n",
            "amazon              amazon              \n",
            "rainforest          rainforest          \n",
            "is                  is                  \n",
            "the                 the                 \n",
            "largest             largest             \n",
            "tropical            tropical            \n",
            "rainforest          rainforest          \n",
            "in                  in                  \n",
            "the                 the                 \n",
            "world               world               \n",
            "covering            covering            \n",
            "over                over                \n",
            "6                   6                   \n",
            "million             million             \n",
            "square              square              \n",
            "kilometers          kilometer           \n",
            "in                  in                  \n",
            "south               south               \n",
            "america             america             \n",
            "and                 and                 \n",
            "playing             playing             \n",
            "a                   a                   \n",
            "critical            critical            \n",
            "role                role                \n",
            "in                  in                  \n",
            "maintaining         maintaining         \n",
            "the                 the                 \n",
            "earth               earth               \n",
            "'s                  's                  \n",
            "biodiversity        biodiversity        \n",
            "and                 and                 \n",
            "climate             climate             \n",
            "the                 the                 \n",
            "grand               grand               \n",
            "canyon              canyon              \n",
            "in                  in                  \n",
            "arizona             arizona             \n",
            "usa                 usa                 \n",
            "is                  is                  \n",
            "a                   a                   \n",
            "massive             massive             \n",
            "gorge               gorge               \n",
            "created             created             \n",
            "by                  by                  \n",
            "the                 the                 \n",
            "colorado            colorado            \n",
            "river               river               \n",
            "and                 and                 \n",
            "is                  is                  \n",
            "one                 one                 \n",
            "of                  of                  \n",
            "the                 the                 \n",
            "most                most                \n",
            "iconic              iconic              \n",
            "natural             natural             \n",
            "wonders             wonder              \n",
            "in                  in                  \n",
            "the                 the                 \n",
            "world               world               \n",
            "attracting          attracting          \n",
            "millions            million             \n",
            "of                  of                  \n",
            "visitors            visitor             \n",
            "each                each                \n",
            "year                year                \n",
            "the                 the                 \n",
            "human               human               \n",
            "brain               brain               \n",
            "is                  is                  \n",
            "the                 the                 \n",
            "most                most                \n",
            "complex             complex             \n",
            "structure           structure           \n",
            "in                  in                  \n",
            "the                 the                 \n",
            "known               known               \n",
            "universe            universe            \n",
            "capable             capable             \n",
            "of                  of                  \n",
            "performing          performing          \n",
            "functions           function            \n",
            "such                such                \n",
            "as                  a                   \n",
            "processing          processing          \n",
            "information         information         \n",
            "reasoning           reasoning           \n",
            "and                 and                 \n",
            "controlling         controlling         \n",
            "movement            movement            \n",
            "while               while               \n",
            "also                also                \n",
            "being               being               \n",
            "responsible         responsible         \n",
            "for                 for                 \n",
            "our                 our                 \n",
            "emotions            emotion             \n",
            "memories            memory              \n",
            "and                 and                 \n",
            "consciousness       consciousness       \n",
            "the                 the                 \n",
            "theory              theory              \n",
            "of                  of                  \n",
            "evolution           evolution           \n",
            "by                  by                  \n",
            "natural             natural             \n",
            "selection           selection           \n",
            "proposed            proposed            \n",
            "by                  by                  \n",
            "charles             charles             \n",
            "darwin              darwin              \n",
            "in                  in                  \n",
            "1859                1859                \n",
            "is                  is                  \n",
            "the                 the                 \n",
            "scientific          scientific          \n",
            "explanation         explanation         \n",
            "for                 for                 \n",
            "the                 the                 \n",
            "diversity           diversity           \n",
            "of                  of                  \n",
            "life                life                \n",
            "on                  on                  \n",
            "earth               earth               \n",
            "and                 and                 \n",
            "the                 the                 \n",
            "mechanism           mechanism           \n",
            "behind              behind              \n",
            "the                 the                 \n",
            "gradual             gradual             \n",
            "change              change              \n",
            "of                  of                  \n",
            "species             specie              \n",
            "over                over                \n",
            "time                time                \n",
            "through             through             \n",
            "the                 the                 \n",
            "process             process             \n",
            "of                  of                  \n",
            "adaptation          adaptation          \n"
          ]
        },
        {
          "output_type": "stream",
          "name": "stderr",
          "text": [
            "[nltk_data]   Package omw-1.4 is already up-to-date!\n"
          ]
        }
      ]
    },
    {
      "cell_type": "code",
      "source": [
        "import nltk\n",
        "nltk.download('averaged_perceptron_tagger')\n",
        "from nltk.corpus import stopwords\n",
        "from nltk.tokenize import word_tokenize, sent_tokenize\n",
        "stop_words = set(stopwords.words('english'))\n",
        "tokenized = sent_tokenize(x)\n",
        "for i in tokenized:\n",
        "\twordsList = nltk.word_tokenize(i)\n",
        "\twordsList = [w for w in wordsList if not w in stop_words]\n",
        "\ttagged = nltk.pos_tag(wordsList)\n",
        "\tprint(tagged)\n",
        "     "
      ],
      "metadata": {
        "colab": {
          "base_uri": "https://localhost:8080/"
        },
        "id": "pzT282ZWCPgz",
        "outputId": "80c9789b-d421-469e-e9cb-be094c5de4b9"
      },
      "execution_count": 41,
      "outputs": [
        {
          "output_type": "stream",
          "name": "stderr",
          "text": [
            "[nltk_data] Downloading package averaged_perceptron_tagger to\n",
            "[nltk_data]     /root/nltk_data...\n",
            "[nltk_data]   Package averaged_perceptron_tagger is already up-to-\n",
            "[nltk_data]       date!\n"
          ]
        },
        {
          "output_type": "stream",
          "name": "stdout",
          "text": [
            "[('sun', 'NN'), ('rises', 'VBZ'), ('east', 'JJ'), ('sets', 'NNS'), ('west', 'VBP'), ('.', '.')]\n",
            "[('sky', 'NN'), ('blue', 'NN'), ('rayleigh', 'JJ'), ('scattering', 'NN'), ('.', '.')]\n",
            "[('moon', 'NN'), ('affects', 'NNS'), ('tides', 'VBZ'), ('earth', 'NN'), ('.', '.')]\n",
            "[('water', 'NN'), ('made', 'VBD'), ('two', 'CD'), ('hydrogen', 'NN'), ('atoms', 'NNS'), ('one', 'CD'), ('oxygen', 'NN'), ('atom', 'NN'), ('.', '.')]\n",
            "[('fastest', 'JJS'), ('land', 'NN'), ('animal', 'NN'), ('cheetah', 'NN'), ('.', '.')]\n",
            "[('northern', 'JJ'), ('lights', 'NNS'), (',', ','), ('also', 'RB'), ('known', 'VBN'), ('aurora', 'NN'), ('borealis', 'NN'), (',', ','), ('natural', 'JJ'), ('light', 'NN'), ('display', 'NN'), ('northern', 'JJ'), ('hemisphere', 'RB'), ('caused', 'VBN'), ('collision', 'NN'), ('charged', 'VBN'), ('particles', 'NNS'), ('sun', 'VBP'), ('earth', 'NN'), (\"'s\", 'POS'), ('atmosphere', 'NN'), ('.', '.')]\n",
            "[('amazon', 'NN'), ('rainforest', 'JJS'), ('largest', 'JJS'), ('tropical', 'JJ'), ('rainforest', 'NN'), ('world', 'NN'), (',', ','), ('covering', 'VBG'), ('6', 'CD'), ('million', 'CD'), ('square', 'JJ'), ('kilometers', 'NNS'), ('south', 'VBP'), ('america', 'JJ'), ('playing', 'VBG'), ('critical', 'JJ'), ('role', 'NN'), ('maintaining', 'VBG'), ('earth', 'NN'), (\"'s\", 'POS'), ('biodiversity', 'NN'), ('climate', 'NN'), ('.', '.')]\n",
            "[('grand', 'JJ'), ('canyon', 'NN'), ('arizona', 'NN'), (',', ','), ('usa', 'JJ'), (',', ','), ('massive', 'JJ'), ('gorge', 'NN'), ('created', 'VBD'), ('colorado', 'JJR'), ('river', 'NN'), ('one', 'CD'), ('iconic', 'JJ'), ('natural', 'JJ'), ('wonders', 'NNS'), ('world', 'NN'), (',', ','), ('attracting', 'VBG'), ('millions', 'NNS'), ('visitors', 'NNS'), ('year', 'NN'), ('.', '.')]\n",
            "[('human', 'JJ'), ('brain', 'NN'), ('complex', 'JJ'), ('structure', 'NN'), ('known', 'VBN'), ('universe', 'JJ'), (',', ','), ('capable', 'JJ'), ('performing', 'VBG'), ('functions', 'NNS'), ('processing', 'VBG'), ('information', 'NN'), (',', ','), ('reasoning', 'NN'), (',', ','), ('controlling', 'VBG'), ('movement', 'NN'), (',', ','), ('also', 'RB'), ('responsible', 'JJ'), ('emotions', 'NNS'), (',', ','), ('memories', 'NNS'), (',', ','), ('consciousness', 'NN'), ('.', '.')]\n",
            "[('theory', 'NN'), ('evolution', 'NN'), ('natural', 'JJ'), ('selection', 'NN'), (',', ','), ('proposed', 'VBN'), ('charles', 'NNS'), ('darwin', 'VB'), ('1859', 'CD'), (',', ','), ('scientific', 'JJ'), ('explanation', 'NN'), ('diversity', 'NN'), ('life', 'NN'), ('earth', 'NN'), ('mechanism', 'NN'), ('behind', 'IN'), ('gradual', 'JJ'), ('change', 'NN'), ('species', 'NNS'), ('time', 'NN'), ('process', 'NN'), ('adaptation', 'NN'), ('.', '.')]\n"
          ]
        }
      ]
    },
    {
      "cell_type": "code",
      "source": [],
      "metadata": {
        "id": "pECyt_ieCSAr"
      },
      "execution_count": 41,
      "outputs": []
    }
  ]
}